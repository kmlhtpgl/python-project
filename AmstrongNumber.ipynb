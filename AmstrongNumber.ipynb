{
  "nbformat": 4,
  "nbformat_minor": 0,
  "metadata": {
    "colab": {
      "name": "Untitled11.ipynb",
      "provenance": [],
      "authorship_tag": "ABX9TyMSR4UV81Lguwk7tH3wUnvI",
      "include_colab_link": true
    },
    "kernelspec": {
      "name": "python3",
      "display_name": "Python 3"
    }
  },
  "cells": [
    {
      "cell_type": "markdown",
      "metadata": {
        "id": "view-in-github",
        "colab_type": "text"
      },
      "source": [
        "<a href=\"https://colab.research.google.com/github/kmlhtpgl/python-project/blob/main/AmstrongNumber.ipynb\" target=\"_parent\"><img src=\"https://colab.research.google.com/assets/colab-badge.svg\" alt=\"Open In Colab\"/></a>"
      ]
    },
    {
      "cell_type": "code",
      "metadata": {
        "colab": {
          "base_uri": "https://localhost:8080/"
        },
        "id": "z-yG3Vo0Inaz",
        "outputId": "848dea4e-f34e-4669-f4f7-dfb27aaa787b"
      },
      "source": [
        "while True:\r\n",
        "  try:\r\n",
        "    number=int(input(\"Please enter a number: \"))\r\n",
        "    break\r\n",
        "  except ValueError:\r\n",
        "    print(\"Oops!  That was no valid number.  Try again...\")\r\n",
        "\r\n",
        "while True:\r\n",
        "    if type(number)==float or int(number) < 0:\r\n",
        "      print('please enter again') \r\n",
        "      number=(input(\"Please enter a number: \"))\r\n",
        "    else: \r\n",
        "   \r\n",
        "      seperated = [int(d) for d in str(number)]\r\n",
        "      i = 0\r\n",
        "      print(seperated)\r\n",
        "      sum_squares = 0\r\n",
        "      for i in seperated:\r\n",
        "        sum_squares += i**len(seperated)\r\n",
        "        i += 1\r\n",
        "      print(sum_squares) \r\n",
        "      if sum_squares == number:\r\n",
        "        print(format(number) + ' is an Amstrong number', )\r\n",
        "      elif sum_squares != number:\r\n",
        "        print(format(number) + ' is not an Amstrong number' )\r\n",
        "      break"
      ],
      "execution_count": null,
      "outputs": [
        {
          "output_type": "stream",
          "text": [
            "Please enter a number: -98\n",
            "please enter again\n"
          ],
          "name": "stdout"
        }
      ]
    }
  ]
}