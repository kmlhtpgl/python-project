{
  "nbformat": 4,
  "nbformat_minor": 0,
  "metadata": {
    "colab": {
      "name": "letters_count.ipynb",
      "provenance": [],
      "authorship_tag": "ABX9TyMyJjOx1ysM1LYl4YwPnQot",
      "include_colab_link": true
    },
    "kernelspec": {
      "name": "python3",
      "display_name": "Python 3"
    }
  },
  "cells": [
    {
      "cell_type": "markdown",
      "metadata": {
        "id": "view-in-github",
        "colab_type": "text"
      },
      "source": [
        "<a href=\"https://colab.research.google.com/github/kmlhtpgl/python-project/blob/main/letters_count.ipynb\" target=\"_parent\"><img src=\"https://colab.research.google.com/assets/colab-badge.svg\" alt=\"Open In Colab\"/></a>"
      ]
    },
    {
      "cell_type": "code",
      "metadata": {
        "colab": {
          "base_uri": "https://localhost:8080/"
        },
        "id": "SmGfPgJNG_X6",
        "outputId": "6c416f07-1f87-4325-ca56-972031868e66"
      },
      "source": [
        "def number_letters():\r\n",
        "  sentence = input('Please enter a sentence: ')\r\n",
        "  dict = {}\r\n",
        "  for n in sentence:\r\n",
        "      keys = dict.keys()\r\n",
        "      if n in keys:\r\n",
        "          dict[n] += 1\r\n",
        "      else:\r\n",
        "          dict[n] = 1\r\n",
        "  return dict\r\n",
        "  \r\n",
        "number_letters()"
      ],
      "execution_count": 12,
      "outputs": [
        {
          "output_type": "stream",
          "text": [
            "Please enter a sentence: merhaba ali\n"
          ],
          "name": "stdout"
        },
        {
          "output_type": "execute_result",
          "data": {
            "text/plain": [
              "{' ': 1, 'a': 3, 'b': 1, 'e': 1, 'h': 1, 'i': 1, 'l': 1, 'm': 1, 'r': 1}"
            ]
          },
          "metadata": {
            "tags": []
          },
          "execution_count": 12
        }
      ]
    }
  ]
}