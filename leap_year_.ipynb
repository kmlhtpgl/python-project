{
  "nbformat": 4,
  "nbformat_minor": 0,
  "metadata": {
    "colab": {
      "name": "leap_year .ipynb",
      "provenance": [],
      "authorship_tag": "ABX9TyP67b2fHNdUrMEQMgnSl27K",
      "include_colab_link": true
    },
    "kernelspec": {
      "name": "python3",
      "display_name": "Python 3"
    }
  },
  "cells": [
    {
      "cell_type": "markdown",
      "metadata": {
        "id": "view-in-github",
        "colab_type": "text"
      },
      "source": [
        "<a href=\"https://colab.research.google.com/github/kmlhtpgl/python-project/blob/main/leap_year_.ipynb\" target=\"_parent\"><img src=\"https://colab.research.google.com/assets/colab-badge.svg\" alt=\"Open In Colab\"/></a>"
      ]
    },
    {
      "cell_type": "code",
      "metadata": {
        "colab": {
          "base_uri": "https://localhost:8080/"
        },
        "id": "JKSG2yXozI3T",
        "outputId": "0ffad199-a764-4036-874e-32cc1638dfeb"
      },
      "source": [
        "leap = int(input('Please enter a year: '))\r\n",
        "if leap % 100 == 0 and leap % 400 != 0:\r\n",
        "  print(f'{leap} is not a leap year ')\r\n",
        "elif leap % 4 == 0 or leap % 400 == 0:\r\n",
        "  print(f'{leap} is a leap year ')\r\n",
        "\r\n"
      ],
      "execution_count": 20,
      "outputs": [
        {
          "output_type": "stream",
          "text": [
            "Please enter a year: 2600\n",
            "2600 is not a leap year \n"
          ],
          "name": "stdout"
        }
      ]
    }
  ]
}