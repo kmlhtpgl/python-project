{
  "nbformat": 4,
  "nbformat_minor": 0,
  "metadata": {
    "colab": {
      "name": "prime_numbers.ipynb",
      "provenance": [],
      "authorship_tag": "ABX9TyOl0sM73tFJNahs3gEl5vbE",
      "include_colab_link": true
    },
    "kernelspec": {
      "name": "python3",
      "display_name": "Python 3"
    }
  },
  "cells": [
    {
      "cell_type": "markdown",
      "metadata": {
        "id": "view-in-github",
        "colab_type": "text"
      },
      "source": [
        "<a href=\"https://colab.research.google.com/github/kmlhtpgl/python-project/blob/main/prime_numbers.ipynb\" target=\"_parent\"><img src=\"https://colab.research.google.com/assets/colab-badge.svg\" alt=\"Open In Colab\"/></a>"
      ]
    },
    {
      "cell_type": "code",
      "metadata": {
        "colab": {
          "base_uri": "https://localhost:8080/"
        },
        "id": "XbvZeIp0quzh",
        "outputId": "d1b69c42-0a8b-4268-88dd-5174d5e867fd"
      },
      "source": [
        "pn = []\r\n",
        "n = int(input('say a number :'))\r\n",
        "for i in range(n):\r\n",
        "  if i > 1:\r\n",
        "    if i == 2 or i == 3 or i == 5 or i == 7:\r\n",
        "      pn.append(i)\r\n",
        "    elif i % 2 != 0 and i % 2 != 0 and i % 3 != 0 and i % 5 != 0 and i % 7 != 0:\r\n",
        "      pn.append(i)\r\n",
        "print(pn)"
      ],
      "execution_count": 12,
      "outputs": [
        {
          "output_type": "stream",
          "text": [
            "say a number :100\n",
            "[2, 3, 5, 7, 11, 13, 17, 19, 23, 29, 31, 37, 41, 43, 47, 53, 59, 61, 67, 71, 73, 79, 83, 89, 97]\n"
          ],
          "name": "stdout"
        }
      ]
    }
  ]
}