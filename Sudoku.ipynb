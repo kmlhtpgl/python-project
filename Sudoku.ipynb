{
  "nbformat": 4,
  "nbformat_minor": 0,
  "metadata": {
    "colab": {
      "name": "Sudoku.ipynb",
      "provenance": [],
      "authorship_tag": "ABX9TyMTMAVWzGOZSLivAE5WKSyb",
      "include_colab_link": true
    },
    "kernelspec": {
      "name": "python3",
      "display_name": "Python 3"
    }
  },
  "cells": [
    {
      "cell_type": "markdown",
      "metadata": {
        "id": "view-in-github",
        "colab_type": "text"
      },
      "source": [
        "<a href=\"https://colab.research.google.com/github/kmlhtpgl/python-project/blob/main/Sudoku.ipynb\" target=\"_parent\"><img src=\"https://colab.research.google.com/assets/colab-badge.svg\" alt=\"Open In Colab\"/></a>"
      ]
    },
    {
      "cell_type": "code",
      "metadata": {
        "id": "sBWmQgnf7ihj",
        "colab": {
          "base_uri": "https://localhost:8080/"
        },
        "outputId": "b1f953fa-15cb-4d92-87db-1116d9dfef1f"
      },
      "source": [
        "sudoku = [\r\n",
        "    [0, 0, 0, 0, 6, 4, 0, 0, 0],\r\n",
        "    [7, 0, 0, 0, 0, 0, 3, 9, 0],\r\n",
        "    [8, 0, 0, 0, 0, 0, 0, 0, 0],\r\n",
        "    [0, 0, 0, 5, 0, 2, 0, 6, 0],\r\n",
        "    [0, 8, 0, 4, 0, 0, 0, 0, 0],\r\n",
        "    [3, 5, 0, 6, 0, 0, 0, 7, 0],\r\n",
        "    [0, 0, 2, 0, 0, 0, 1, 0, 3],\r\n",
        "    [0, 0, 1, 0, 5, 9, 0, 0, 0],\r\n",
        "    [0, 0, 0, 0, 0, 0, 7, 0, 0]\r\n",
        "]\r\n",
        "counter = 0 \r\n",
        "print('---------------------') \r\n",
        "while counter < 9:\r\n",
        "  for j in range(9):\r\n",
        "    print(sudoku[counter][j], end=' ')\r\n",
        "    if j == 2 or j == 5:\r\n",
        "      print('|', end=' ')\r\n",
        "  print(end='\\n')\r\n",
        "  counter += 1\r\n",
        "  if counter %3 == 0:\r\n",
        "    print('---------------------') \r\n",
        "  \r\n",
        "  "
      ],
      "execution_count": null,
      "outputs": [
        {
          "output_type": "stream",
          "text": [
            "---------------------\n",
            "0 0 0 | 0 6 4 | 0 0 0 \n",
            "7 0 0 | 0 0 0 | 3 9 0 \n",
            "8 0 0 | 0 0 0 | 0 0 0 \n",
            "---------------------\n",
            "0 0 0 | 5 0 2 | 0 6 0 \n",
            "0 8 0 | 4 0 0 | 0 0 0 \n",
            "3 5 0 | 6 0 0 | 0 7 0 \n",
            "---------------------\n",
            "0 0 2 | 0 0 0 | 1 0 3 \n",
            "0 0 1 | 0 5 9 | 0 0 0 \n",
            "0 0 0 | 0 0 0 | 7 0 0 \n",
            "---------------------\n"
          ],
          "name": "stdout"
        }
      ]
    },
    {
      "cell_type": "code",
      "metadata": {
        "colab": {
          "base_uri": "https://localhost:8080/"
        },
        "id": "xTXesFzMNi_W",
        "outputId": "7f2dcd63-f688-410e-cc9e-77aed5aaa566"
      },
      "source": [
        "for num, i in enumerate(sudoku):\r\n",
        "    i.insert(3, \"|\")\r\n",
        "    i.insert(7, \"|\")\r\n",
        "    if num % 3 == 0:\r\n",
        "        print(\"- \" *11)\r\n",
        "    print(*i)\r\n",
        "print(\"- \"*11)"
      ],
      "execution_count": null,
      "outputs": [
        {
          "output_type": "stream",
          "text": [
            "- - - - - - - - - - - \n",
            "0 0 0 | 0 6 4 | 0 0 0\n",
            "7 0 0 | 0 0 0 | 3 9 0\n",
            "8 0 0 | 0 0 0 | 0 0 0\n",
            "- - - - - - - - - - - \n",
            "0 0 0 | 5 0 2 | 0 6 0\n",
            "0 8 0 | 4 0 0 | 0 0 0\n",
            "3 5 0 | 6 0 0 | 0 7 0\n",
            "- - - - - - - - - - - \n",
            "0 0 2 | 0 0 0 | 1 0 3\n",
            "0 0 1 | 0 5 9 | 0 0 0\n",
            "0 0 0 | 0 0 0 | 7 0 0\n",
            "- - - - - - - - - - - \n"
          ],
          "name": "stdout"
        }
      ]
    }
  ]
}