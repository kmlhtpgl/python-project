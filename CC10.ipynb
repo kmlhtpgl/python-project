{
  "nbformat": 4,
  "nbformat_minor": 0,
  "metadata": {
    "colab": {
      "name": "CC10.ipynb",
      "provenance": [],
      "authorship_tag": "ABX9TyNgyxn1dJXi9dpIeazB72n5",
      "include_colab_link": true
    },
    "kernelspec": {
      "name": "python3",
      "display_name": "Python 3"
    }
  },
  "cells": [
    {
      "cell_type": "markdown",
      "metadata": {
        "id": "view-in-github",
        "colab_type": "text"
      },
      "source": [
        "<a href=\"https://colab.research.google.com/github/kmlhtpgl/python-project/blob/main/CC10.ipynb\" target=\"_parent\"><img src=\"https://colab.research.google.com/assets/colab-badge.svg\" alt=\"Open In Colab\"/></a>"
      ]
    },
    {
      "cell_type": "code",
      "metadata": {
        "colab": {
          "base_uri": "https://localhost:8080/"
        },
        "id": "-EWXMLJLizdw",
        "outputId": "46dc58e2-e7c4-43a6-ad44-7460b23d713b"
      },
      "source": [
        "given = [['C', 'L'], ['A', 'R', 'U'], ['S', 'W', 'A', 'Y']]\r\n",
        "res = max(given, key=lambda x: x[1])\r\n",
        "print(res, len(max(given)))"
      ],
      "execution_count": 1,
      "outputs": [
        {
          "output_type": "stream",
          "text": [
            "['S', 'W', 'A', 'Y'] 4\n"
          ],
          "name": "stdout"
        }
      ]
    },
    {
      "cell_type": "code",
      "metadata": {
        "colab": {
          "base_uri": "https://localhost:8080/"
        },
        "id": "Wc08z3ywm34u",
        "outputId": "20f59a51-30ee-4332-8b97-41590b328d84"
      },
      "source": [
        "def divisible():\r\n",
        "  a = int(input('enter an integer: '))\r\n",
        "  b = int(input('enter an integer: '))\r\n",
        "  if b == 0:\r\n",
        "    print('error')\r\n",
        "  elif a % b == 0:\r\n",
        "    print('divisible')\r\n",
        "  else:\r\n",
        "    print('not divisible')\r\n",
        "divisible()"
      ],
      "execution_count": null,
      "outputs": [
        {
          "output_type": "stream",
          "text": [
            "enter an integer: 13\n",
            "enter an integer: 5\n",
            "not divisible\n"
          ],
          "name": "stdout"
        }
      ]
    }
  ]
}