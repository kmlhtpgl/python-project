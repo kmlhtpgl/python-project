{
  "nbformat": 4,
  "nbformat_minor": 0,
  "metadata": {
    "colab": {
      "name": "primenumber.ipynb",
      "provenance": [],
      "authorship_tag": "ABX9TyPqsdLfEPfe/Un1yUTfwAUC",
      "include_colab_link": true
    },
    "kernelspec": {
      "name": "python3",
      "display_name": "Python 3"
    }
  },
  "cells": [
    {
      "cell_type": "markdown",
      "metadata": {
        "id": "view-in-github",
        "colab_type": "text"
      },
      "source": [
        "<a href=\"https://colab.research.google.com/github/kmlhtpgl/python-project/blob/main/primenumber.ipynb\" target=\"_parent\"><img src=\"https://colab.research.google.com/assets/colab-badge.svg\" alt=\"Open In Colab\"/></a>"
      ]
    },
    {
      "cell_type": "code",
      "metadata": {
        "colab": {
          "base_uri": "https://localhost:8080/"
        },
        "id": "IY58e9VL1XrJ",
        "outputId": "a145ab13-bc28-4efa-f03a-2e630823ad0e"
      },
      "source": [
        "number = input('please enter a number: ')\r\n",
        "while not number.isdigit() > 0:\r\n",
        "  print('please enter a numeric value. don`t use float or negative values and 1 is not a prime number')\r\n",
        "  number = int(input('please enter a number: '))\r\n",
        "if int(number) == 2:\r\n",
        "  print(f'{number} is a prime number')\r\n",
        "elif int(number) < 2 or int(number) == 0:\r\n",
        "  print(f'{number} is not a prime number')\r\n",
        "elif int(number) %3 == 0 or int(number) %4 == 0 or int(number) %6 ==0 or int(number) %7 ==0 or int(number) %2 ==0:\r\n",
        "  print(f'{number} is not a prime number')\r\n",
        "elif int(number) %1 == 0 and int(number) %int(number) ==0:\r\n",
        "  print(f'{number} is a prime number')\r\n"
      ],
      "execution_count": 47,
      "outputs": [
        {
          "output_type": "stream",
          "text": [
            "please enter a number: 0\n",
            "0 is not a prime number\n"
          ],
          "name": "stdout"
        }
      ]
    }
  ]
}